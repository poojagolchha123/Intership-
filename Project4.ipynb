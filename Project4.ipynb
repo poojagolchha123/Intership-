{
 "cells": [
  {
   "cell_type": "raw",
   "id": "6cd3abb1",
   "metadata": {},
   "source": [
    "# 1. Scrape the details of most viewed videos on YouTube from Wikipedia.\n",
    "Url = https://en.wikipedia.org/wiki/List_of_most-viewed_YouTube_videos\n",
    "You need to find following details:\n",
    "A) Rank\n",
    "B) Name\n",
    "C) Artist\n",
    "D) Upload date\n",
    "E) Views"
   ]
  },
  {
   "cell_type": "code",
   "execution_count": 1,
   "id": "8e105d76",
   "metadata": {},
   "outputs": [],
   "source": [
    "import selenium\n",
    "import pandas as pd\n",
    "import numpy as np\n",
    "import time\n",
    "from selenium import webdriver\n",
    "from selenium.common.exceptions import StaleElementReferenceException, NoSuchElementException\n",
    "import requests\n",
    "import re\n",
    "import time"
   ]
  },
  {
   "cell_type": "code",
   "execution_count": null,
   "id": "79d7d4e9",
   "metadata": {},
   "outputs": [],
   "source": [
    "driver=webdriver.Chrome(r'C:\\Web Driver\\chromedriver.exe')"
   ]
  },
  {
   "cell_type": "code",
   "execution_count": null,
   "id": "2d49f5ab",
   "metadata": {},
   "outputs": [],
   "source": [
    "driver.get(\"https://en.wikipedia.org/wiki/List_of_most-viewed_YouTube_videos\")"
   ]
  },
  {
   "cell_type": "code",
   "execution_count": null,
   "id": "8c3bd919",
   "metadata": {},
   "outputs": [],
   "source": [
    "search=driver.find_element_by_xpath('/html/body/div[3]/div[3]/div[5]/div[1]/div[3]/ul/li[3]/a/span[2]')\n",
    "search.click()"
   ]
  },
  {
   "cell_type": "code",
   "execution_count": null,
   "id": "281b0b57",
   "metadata": {},
   "outputs": [],
   "source": [
    "url=[]\n",
    "for i in range(0,30):\n",
    "    for i in driver.find_elements_by_xpath('//a[@class=\"mw-redirect\"]'):\n",
    "        url.append(i.get_attribute('href'))\n",
    "    \n",
    "url\n",
    "len(url)\n"
   ]
  },
  {
   "cell_type": "raw",
   "id": "e5ef510d",
   "metadata": {},
   "source": [
    "Scrape the details team India’s international fixtures from bcci.tv.\n",
    "Url = https://www.bcci.tv/.\n",
    "You need to find following details:\n",
    "A) Match title (I.e. 1\n",
    "st ODI)\n",
    "B) Series\n",
    "C) Place\n",
    "D) Date\n",
    "E) Time"
   ]
  },
  {
   "cell_type": "code",
   "execution_count": null,
   "id": "0e1965d4",
   "metadata": {},
   "outputs": [],
   "source": [
    "driver=webdriver.Chrome(r'C:\\Web Driver\\chromedriver.exe')"
   ]
  },
  {
   "cell_type": "code",
   "execution_count": null,
   "id": "0be6c887",
   "metadata": {},
   "outputs": [],
   "source": [
    "driver.get(\"https://www.bcci.tv/\")"
   ]
  },
  {
   "cell_type": "code",
   "execution_count": null,
   "id": "3c45e191",
   "metadata": {},
   "outputs": [],
   "source": [
    "match_title=[]\n",
    "\n",
    "for i in driver.find_elements_by_xpath('//span[@class=\"ng-binding\"]'):\n",
    "    match_title.append(i.text)\n",
    "    \n",
    "match_title"
   ]
  },
  {
   "cell_type": "code",
   "execution_count": null,
   "id": "5ed208ac",
   "metadata": {},
   "outputs": [],
   "source": [
    "series=[]\n",
    "\n",
    "for i in driver.find_elements_by_xpath('//span[@class=\"ng-binding ng-scope\"]'):\n",
    "    series.append(i.text)\n",
    "    \n",
    "series"
   ]
  },
  {
   "cell_type": "code",
   "execution_count": null,
   "id": "4e3b619f",
   "metadata": {},
   "outputs": [],
   "source": [
    "date=[]\n",
    "\n",
    "for i in driver.find_elements_by_xpath('//h5[@class=\"ng-binding\"]'):\n",
    "    date.append(i.text)\n",
    "    \n",
    "date"
   ]
  },
  {
   "cell_type": "code",
   "execution_count": null,
   "id": "db3ac0b7",
   "metadata": {},
   "outputs": [],
   "source": [
    "time=[]\n",
    "\n",
    "for i in driver.find_elements_by_xpath('//h5[@class=\"text-right ng-binding\"]'):\n",
    "    time.append(i.text)\n",
    "    \n",
    "time"
   ]
  },
  {
   "cell_type": "code",
   "execution_count": null,
   "id": "87d07506",
   "metadata": {},
   "outputs": [],
   "source": [
    "match=[]\n",
    "\n",
    "for i in driver.find_elements_by_xpath('//span[@class=\"matchOrderText ng-binding ng-scope\"]'):\n",
    "    match.append(i.text)\n",
    "    \n",
    "match"
   ]
  },
  {
   "cell_type": "code",
   "execution_count": null,
   "id": "95447b4c",
   "metadata": {},
   "outputs": [],
   "source": [
    "df=pd.DataFrame({'Match':match,'Time':time,'Match Title':match_title,'Series':series,'Date':date})\n",
    "df"
   ]
  },
  {
   "cell_type": "raw",
   "id": "3fbe990a",
   "metadata": {},
   "source": [
    "3. Scrape the details of selenium exception from guru99.com. \n",
    "Url = https://www.guru99.com/ \n",
    "You need to find following details: \n",
    "A) Name \n",
    "B) Description \n",
    "Note: - From guru99 home page you have to reach to selenium exception handling page through code. \n"
   ]
  },
  {
   "cell_type": "code",
   "execution_count": null,
   "id": "95c1d698",
   "metadata": {},
   "outputs": [],
   "source": [
    "driver=webdriver.Chrome(r'C:\\Web Driver\\chromedriver.exe')"
   ]
  },
  {
   "cell_type": "code",
   "execution_count": null,
   "id": "88f0afee",
   "metadata": {},
   "outputs": [],
   "source": [
    "driver.get('https://www.guru99.com/')"
   ]
  },
  {
   "cell_type": "raw",
   "id": "eb4bb1c2",
   "metadata": {},
   "source": [
    "4. Scrape the details of State-wise GDP of India from statisticstime.com. \n",
    "Url = http://statisticstimes.com/ \n",
    "You have to find following details: \n",
    "A) Rank \n",
    "B) State \n",
    "C) GSDP(18-19) \n",
    "D) GSDP(17-18) \n",
    "E) Share(2017) \n",
    "F) GDP($ billion) \n",
    "Note: - From statisticstimes home page you have to reach to economy page through code. \n"
   ]
  },
  {
   "cell_type": "code",
   "execution_count": null,
   "id": "26a64f1d",
   "metadata": {},
   "outputs": [],
   "source": [
    "driver=webdriver.Chrome(r'C:\\Web Driver\\chromedriver.exe')"
   ]
  },
  {
   "cell_type": "code",
   "execution_count": null,
   "id": "20123ee0",
   "metadata": {},
   "outputs": [],
   "source": [
    "driver.get('http://statisticstimes.com/')"
   ]
  },
  {
   "cell_type": "code",
   "execution_count": null,
   "id": "813ac8ff",
   "metadata": {},
   "outputs": [],
   "source": [
    "button=driver.find_element_by_xpath('/html/body/div[2]/div[1]/div[2]/div[2]/button')\n",
    "button.click()"
   ]
  },
  {
   "cell_type": "code",
   "execution_count": null,
   "id": "b08ae09d",
   "metadata": {},
   "outputs": [],
   "source": [
    "button1=driver.find_element_by_xpath('/html/body/div[2]/div[1]/div[2]/div[2]/div/a[3]')\n",
    "button1.click()"
   ]
  },
  {
   "cell_type": "code",
   "execution_count": null,
   "id": "9bcfe2f0",
   "metadata": {},
   "outputs": [],
   "source": [
    "button2=driver.find_element_by_xpath('/html/body/div[2]/div[2]/div[2]/ul/li[1]/a')\n",
    "button2.click()"
   ]
  },
  {
   "cell_type": "code",
   "execution_count": null,
   "id": "76b0d320",
   "metadata": {},
   "outputs": [],
   "source": [
    "rank=[]\n",
    "for i in driver.find_elements_by_xpath('//td[@class=\"data1\"]'):\n",
    "    rank.append(i.text)\n",
    "rank\n",
    "len(rank)\n",
    "a=rank[0:33]\n",
    "a"
   ]
  },
  {
   "cell_type": "code",
   "execution_count": null,
   "id": "49f34869",
   "metadata": {},
   "outputs": [],
   "source": [
    "len(a)"
   ]
  },
  {
   "cell_type": "code",
   "execution_count": null,
   "id": "6e8cfc74",
   "metadata": {},
   "outputs": [],
   "source": [
    "state=[]\n",
    "for i in driver.find_elements_by_xpath('//td[@class=\"name\"]'):\n",
    "    state.append(i.text)\n",
    "b=state[0:33]\n",
    "b"
   ]
  },
  {
   "cell_type": "code",
   "execution_count": null,
   "id": "7f7fc4a5",
   "metadata": {},
   "outputs": [],
   "source": [
    "gdp1819=[]\n",
    "\n",
    "for i in driver.find_elements_by_xpath('//td[@class=\"data sorting_1\" ]'):\n",
    "    gdp1819.append(i.text)\n",
    "    \n",
    "c=gdp1819[0:33]\n",
    "c"
   ]
  },
  {
   "cell_type": "code",
   "execution_count": null,
   "id": "e0a0f627",
   "metadata": {},
   "outputs": [],
   "source": [
    "gdp1920=[]\n",
    "\n",
    "for i in driver.find_elements_by_xpath('//tr[@class=\"odd\"]'):\n",
    "    gdp1920.append(i.text.split())\n",
    "    \n",
    "d=gdp1920[0:33]\n",
    "d"
   ]
  },
  {
   "cell_type": "code",
   "execution_count": null,
   "id": "9f671ce9",
   "metadata": {},
   "outputs": [],
   "source": [
    "gdp1920=[]\n",
    "\n",
    "for i in driver.find_elements_by_xpath('//tr[@class=\"even\"]'):\n",
    "    gdp1920.append(i.text.split())\n",
    "    \n",
    "e=gdp1920[0:33]\n",
    "e"
   ]
  },
  {
   "cell_type": "code",
   "execution_count": null,
   "id": "caf8c294",
   "metadata": {},
   "outputs": [],
   "source": [
    "df=pd.DataFrame(d)\n",
    "df"
   ]
  },
  {
   "cell_type": "raw",
   "id": "f6e01900",
   "metadata": {},
   "source": [
    "5. Scrape the details of trending repositories on Github.com. \n",
    "Url = https://github.com/ \n",
    "You have to find the following details: \n",
    "A) Repository title \n",
    "B) Repository description \n",
    "C) Contributors count \n",
    "D) Language used\n",
    "ASSIGNMENT \n"
   ]
  },
  {
   "cell_type": "code",
   "execution_count": null,
   "id": "9ff6408c",
   "metadata": {},
   "outputs": [],
   "source": [
    "driver=webdriver.Chrome(r'C:\\Web Driver\\chromedriver.exe')"
   ]
  },
  {
   "cell_type": "code",
   "execution_count": null,
   "id": "ccd59c53",
   "metadata": {},
   "outputs": [],
   "source": [
    "driver.get('https://github.com/')"
   ]
  },
  {
   "cell_type": "code",
   "execution_count": null,
   "id": "ba2d4480",
   "metadata": {},
   "outputs": [],
   "source": [
    "button=driver.find_element_by_xpath('/html/body/div[1]/header/div/div[2]/nav/ul/li[4]/details/summary')\n",
    "button.click()"
   ]
  },
  {
   "cell_type": "code",
   "execution_count": null,
   "id": "cc353f64",
   "metadata": {},
   "outputs": [],
   "source": [
    "button1=driver.find_element_by_xpath('/html/body/div[1]/header/div/div[2]/nav/ul/li[4]/details/div/ul/li[1]/a')\n",
    "button1.click()"
   ]
  },
  {
   "cell_type": "code",
   "execution_count": null,
   "id": "5f621218",
   "metadata": {},
   "outputs": [],
   "source": [
    "button3=driver.find_element_by_xpath('/html/body/div[4]/main/div[2]/div/div/div[2]/article[1]/div[1]/div/div[1]/h3/a[1]')\n",
    "button3.click()"
   ]
  },
  {
   "cell_type": "code",
   "execution_count": null,
   "id": "295534d4",
   "metadata": {},
   "outputs": [],
   "source": [
    "button4=driver.find_element_by_xpath('/html/body/div[4]/main/div[1]/div/div/div[2]/div/nav/a[2]')\n",
    "button4.click()"
   ]
  },
  {
   "cell_type": "code",
   "execution_count": null,
   "id": "2ec0e8ea",
   "metadata": {},
   "outputs": [],
   "source": [
    "name=[]\n",
    "for i in driver.find_elements_by_xpath('//h3[@class=\"wb-break-all\"]'):\n",
    "    name.append(i.text)\n",
    "name=name[0:27]\n",
    "len(name)"
   ]
  },
  {
   "cell_type": "code",
   "execution_count": null,
   "id": "61dc2f5e",
   "metadata": {},
   "outputs": [],
   "source": [
    "name"
   ]
  },
  {
   "cell_type": "code",
   "execution_count": null,
   "id": "2fa8306a",
   "metadata": {},
   "outputs": [],
   "source": [
    "desc=[]\n",
    "for i in driver.find_elements_by_xpath('//p[@class=\"col-9 d-inline-block color-fg-muted mb-2 pr-4\"]'):\n",
    "    desc.append(i.text)\n",
    "len(desc)\n",
    "desc=desc[0:27]"
   ]
  },
  {
   "cell_type": "code",
   "execution_count": null,
   "id": "290a6f91",
   "metadata": {},
   "outputs": [],
   "source": [
    "desc"
   ]
  },
  {
   "cell_type": "code",
   "execution_count": null,
   "id": "b162135a",
   "metadata": {},
   "outputs": [],
   "source": [
    "lan=[]\n",
    "for i in driver.find_elements_by_xpath('//span[@itemprop=\"programmingLanguage\"]'):\n",
    "    lan.append(i.text)\n",
    "len(lan)"
   ]
  },
  {
   "cell_type": "code",
   "execution_count": null,
   "id": "224fb993",
   "metadata": {},
   "outputs": [],
   "source": [
    "df=pd.DataFrame({\"Name\":name,\"Description\":desc,\"Language\":lan})\n",
    "df"
   ]
  },
  {
   "cell_type": "raw",
   "id": "554f4415",
   "metadata": {},
   "source": [
    "6. Scrape the details of top 100 songs on billiboard.com. \n",
    "Url = https:/www.billboard.com/ \n",
    "You have to find the following details: \n",
    "A) Song name \n",
    "B) Artist name \n",
    "C) Last week rank \n",
    "D) Peak rank \n",
    "E) Weeks on board \n",
    "Note: - From the home page you have to click on the charts option then hot 100-page link through code. \n"
   ]
  },
  {
   "cell_type": "code",
   "execution_count": null,
   "id": "62f27417",
   "metadata": {},
   "outputs": [],
   "source": [
    "driver=webdriver.Chrome(r'C:\\Web Driver\\chromedriver.exe')"
   ]
  },
  {
   "cell_type": "code",
   "execution_count": null,
   "id": "d723ee99",
   "metadata": {},
   "outputs": [],
   "source": [
    "driver.get('https:/www.billboard.com/')"
   ]
  },
  {
   "cell_type": "code",
   "execution_count": null,
   "id": "3ce9cfd2",
   "metadata": {},
   "outputs": [],
   "source": [
    "button=driver.find_element_by_xpath('/html/body/div[3]/header/div[1]/div/div/div[2]/div/nav/ul/li[1]/a')\n",
    "button.click()"
   ]
  },
  {
   "cell_type": "code",
   "execution_count": null,
   "id": "892d4e59",
   "metadata": {},
   "outputs": [],
   "source": [
    "button1=driver.find_element_by_xpath('/html/body/div[3]/header/div[2]/div/nav/ul/li[1]/a')\n",
    "button1.click()"
   ]
  },
  {
   "cell_type": "code",
   "execution_count": null,
   "id": "7f3ef4fc",
   "metadata": {},
   "outputs": [],
   "source": [
    "rank=[]\n",
    "for i in driver.find_elements_by_xpath('//span[@class=\"c-label  a-font-primary-bold-l u-font-size-32@tablet u-letter-spacing-0080@tablet\"]'):\n",
    "    rank.append(i.text)\n",
    "rank"
   ]
  },
  {
   "cell_type": "code",
   "execution_count": null,
   "id": "09a0434a",
   "metadata": {},
   "outputs": [],
   "source": [
    "artist=[]\n",
    "for i in driver.find_elements_by_xpath('//span[@class=\"c-label  a-no-trucate a-font-primary-s lrv-u-font-size-14@mobile-max u-line-height-normal@mobile-max u-letter-spacing-0021 lrv-u-display-block a-truncate-ellipsis-2line u-max-width-330 u-max-width-230@tablet-only\"]'):\n",
    "    artist.append(i.text)\n",
    "artist\n",
    "len(artist)"
   ]
  },
  {
   "cell_type": "code",
   "execution_count": null,
   "id": "f952bf97",
   "metadata": {},
   "outputs": [],
   "source": [
    "artist"
   ]
  },
  {
   "cell_type": "raw",
   "id": "14c890f0",
   "metadata": {},
   "source": [
    "7. Scrape the details of Data science recruiters from naukri.com. \n",
    "Url = https://www.naukri.com/ \n",
    "You have to find the following details: \n",
    "A) Name \n",
    "B) Designation \n",
    "C) Company \n",
    "D) Skills they hire for \n",
    "E) Location \n",
    "Note: - From naukri.com homepage click on the recruiters option and the on the search pane type Data science and click on search. All this should be done through code \n"
   ]
  },
  {
   "cell_type": "code",
   "execution_count": 21,
   "id": "1080a2d3",
   "metadata": {},
   "outputs": [
    {
     "name": "stderr",
     "output_type": "stream",
     "text": [
      "C:\\Users\\pooja\\AppData\\Local\\Temp/ipykernel_23360/3340373320.py:1: DeprecationWarning: executable_path has been deprecated, please pass in a Service object\n",
      "  driver=webdriver.Chrome(r'C:\\Web Driver\\chromedriver.exe')\n"
     ]
    }
   ],
   "source": [
    "driver=webdriver.Chrome(r'C:\\Web Driver\\chromedriver.exe')\n",
    "\n",
    "driver.get(\"https://www.naukri.com\")\n"
   ]
  },
  {
   "cell_type": "code",
   "execution_count": 22,
   "id": "594616ae",
   "metadata": {},
   "outputs": [
    {
     "name": "stderr",
     "output_type": "stream",
     "text": [
      "C:\\Users\\pooja\\AppData\\Local\\Temp/ipykernel_23360/1852600967.py:1: DeprecationWarning: find_element_by_class_name is deprecated. Please use find_element(by=By.CLASS_NAME, value=name) instead\n",
      "  designation=driver.find_element_by_class_name(\"suggestor-input\")\n",
      "C:\\Users\\pooja\\AppData\\Local\\Temp/ipykernel_23360/1852600967.py:4: DeprecationWarning: find_element_by_xpath is deprecated. Please use find_element(by=By.XPATH, value=xpath) instead\n",
      "  search=driver.find_element_by_xpath(\"/html/body/div/div[2]/div[3]/div/div/div[6]\")\n"
     ]
    }
   ],
   "source": [
    "designation=driver.find_element_by_class_name(\"suggestor-input\")\n",
    "designation.send_keys(\"Data Scientist\")\n",
    "\n",
    "search=driver.find_element_by_xpath(\"/html/body/div/div[2]/div[3]/div/div/div[6]\")\n",
    "search.click()\n"
   ]
  },
  {
   "cell_type": "code",
   "execution_count": 23,
   "id": "bfe295ba",
   "metadata": {},
   "outputs": [
    {
     "name": "stderr",
     "output_type": "stream",
     "text": [
      "C:\\Users\\pooja\\AppData\\Local\\Temp/ipykernel_23360/3309204629.py:3: DeprecationWarning: find_elements_by_xpath is deprecated. Please use find_elements(by=By.XPATH, value=xpath) instead\n",
      "  for i in driver.find_elements_by_xpath('//a[@title=\"Search Recruiters\"]'):\n"
     ]
    },
    {
     "data": {
      "text/plain": [
       "['https://www.naukri.com/recruiters']"
      ]
     },
     "execution_count": 23,
     "metadata": {},
     "output_type": "execute_result"
    }
   ],
   "source": [
    "url=[]\n",
    "\n",
    "for i in driver.find_elements_by_xpath('//a[@title=\"Search Recruiters\"]'):\n",
    "        url.append(i.get_attribute('href'))\n",
    "    \n",
    "url"
   ]
  },
  {
   "cell_type": "code",
   "execution_count": 24,
   "id": "64d16ec1",
   "metadata": {},
   "outputs": [
    {
     "name": "stderr",
     "output_type": "stream",
     "text": [
      "C:\\Users\\pooja\\AppData\\Local\\Temp/ipykernel_23360/541536315.py:5: DeprecationWarning: find_element_by_xpath is deprecated. Please use find_element(by=By.XPATH, value=xpath) instead\n",
      "  designation1=driver.find_element_by_xpath(\"/html/body/div[2]/div[2]/div[1]/div[1]/form/div[1]/div/div[2]/div[1]/div[2]/input\")\n",
      "C:\\Users\\pooja\\AppData\\Local\\Temp/ipykernel_23360/541536315.py:8: DeprecationWarning: find_element_by_xpath is deprecated. Please use find_element(by=By.XPATH, value=xpath) instead\n",
      "  search2=driver.find_element_by_xpath(\"/html/body/div[2]/div[2]/div[1]/div[1]/form/div[1]/button\")\n"
     ]
    }
   ],
   "source": [
    "\n",
    "\n",
    "for i in url:\n",
    "    driver.get(i)\n",
    "    time.sleep(5)\n",
    "\n",
    "designation1=driver.find_element_by_xpath(\"/html/body/div[2]/div[2]/div[1]/div[1]/form/div[1]/div/div[2]/div[1]/div[2]/input\")\n",
    "designation1.send_keys(\"Data Scientist\")\n",
    "\n",
    "search2=driver.find_element_by_xpath(\"/html/body/div[2]/div[2]/div[1]/div[1]/form/div[1]/button\")\n",
    "search2.click()"
   ]
  },
  {
   "cell_type": "code",
   "execution_count": 42,
   "id": "9ff72e64",
   "metadata": {},
   "outputs": [
    {
     "name": "stderr",
     "output_type": "stream",
     "text": [
      "C:\\Users\\pooja\\AppData\\Local\\Temp/ipykernel_23360/2530708583.py:2: DeprecationWarning: find_elements_by_xpath is deprecated. Please use find_elements(by=By.XPATH, value=xpath) instead\n",
      "  for i in driver.find_elements_by_xpath('//span[@class=\"fl ellipsis\"]'):\n"
     ]
    },
    {
     "data": {
      "text/plain": [
       "49"
      ]
     },
     "execution_count": 42,
     "metadata": {},
     "output_type": "execute_result"
    }
   ],
   "source": [
    "name=[]\n",
    "for i in driver.find_elements_by_xpath('//span[@class=\"fl ellipsis\"]'):\n",
    "    name.append(i.text)\n",
    "    \n",
    "names=name[0:49]\n",
    "len(names)"
   ]
  },
  {
   "cell_type": "code",
   "execution_count": 43,
   "id": "7f365a15",
   "metadata": {},
   "outputs": [
    {
     "name": "stderr",
     "output_type": "stream",
     "text": [
      "C:\\Users\\pooja\\AppData\\Local\\Temp/ipykernel_23360/349185500.py:2: DeprecationWarning: find_elements_by_xpath is deprecated. Please use find_elements(by=By.XPATH, value=xpath) instead\n",
      "  for i in driver.find_elements_by_xpath('//span[@class=\"ellipsis clr\"]'):\n"
     ]
    },
    {
     "data": {
      "text/plain": [
       "49"
      ]
     },
     "execution_count": 43,
     "metadata": {},
     "output_type": "execute_result"
    }
   ],
   "source": [
    "des=[]\n",
    "for i in driver.find_elements_by_xpath('//span[@class=\"ellipsis clr\"]'):\n",
    "    des.append(i.text)\n",
    "    \n",
    "designation=des[0:49]\n",
    "len(designation)"
   ]
  },
  {
   "cell_type": "code",
   "execution_count": 34,
   "id": "9a39c4fa",
   "metadata": {},
   "outputs": [
    {
     "name": "stderr",
     "output_type": "stream",
     "text": [
      "C:\\Users\\pooja\\AppData\\Local\\Temp/ipykernel_23360/2558205872.py:3: DeprecationWarning: find_elements_by_xpath is deprecated. Please use find_elements(by=By.XPATH, value=xpath) instead\n",
      "  for i in driver.find_elements_by_xpath('//a[@class=\"ellipsis\"]'):\n"
     ]
    },
    {
     "data": {
      "text/plain": [
       "100"
      ]
     },
     "execution_count": 34,
     "metadata": {},
     "output_type": "execute_result"
    }
   ],
   "source": [
    "com=[]\n",
    "\n",
    "for i in driver.find_elements_by_xpath('//a[@class=\"ellipsis\"]'):\n",
    "    com.append(i.text)\n",
    "com\n",
    "len(com)"
   ]
  },
  {
   "cell_type": "code",
   "execution_count": 35,
   "id": "66bac047",
   "metadata": {},
   "outputs": [
    {
     "name": "stderr",
     "output_type": "stream",
     "text": [
      "C:\\Users\\pooja\\AppData\\Local\\Temp/ipykernel_23360/4176533939.py:3: DeprecationWarning: find_elements_by_xpath is deprecated. Please use find_elements(by=By.XPATH, value=xpath) instead\n",
      "  for i in driver.find_elements_by_xpath('//small[@class=\"ellipsis\"]'):\n"
     ]
    },
    {
     "data": {
      "text/plain": [
       "49"
      ]
     },
     "execution_count": 35,
     "metadata": {},
     "output_type": "execute_result"
    }
   ],
   "source": [
    "place=[]\n",
    "\n",
    "for i in driver.find_elements_by_xpath('//small[@class=\"ellipsis\"]'):\n",
    "    place.append(i.text)\n",
    "place\n",
    "len(place)"
   ]
  },
  {
   "cell_type": "code",
   "execution_count": 40,
   "id": "35ea2bc7",
   "metadata": {},
   "outputs": [
    {
     "name": "stderr",
     "output_type": "stream",
     "text": [
      "C:\\Users\\pooja\\AppData\\Local\\Temp/ipykernel_23360/3634328366.py:3: DeprecationWarning: find_elements_by_xpath is deprecated. Please use find_elements(by=By.XPATH, value=xpath) instead\n",
      "  for i in driver.find_elements_by_xpath('//div[@class=\"hireSec highlightable\"]'):\n"
     ]
    },
    {
     "data": {
      "text/plain": [
       "49"
      ]
     },
     "execution_count": 40,
     "metadata": {},
     "output_type": "execute_result"
    }
   ],
   "source": [
    "skill=[]\n",
    "\n",
    "for i in driver.find_elements_by_xpath('//div[@class=\"hireSec highlightable\"]'):\n",
    "    skill.append(i.text)\n",
    "skill\n",
    "skills=skill[0:49]\n",
    "len(skills)\n"
   ]
  },
  {
   "cell_type": "code",
   "execution_count": 46,
   "id": "797547b0",
   "metadata": {},
   "outputs": [
    {
     "data": {
      "text/html": [
       "<div>\n",
       "<style scoped>\n",
       "    .dataframe tbody tr th:only-of-type {\n",
       "        vertical-align: middle;\n",
       "    }\n",
       "\n",
       "    .dataframe tbody tr th {\n",
       "        vertical-align: top;\n",
       "    }\n",
       "\n",
       "    .dataframe thead th {\n",
       "        text-align: right;\n",
       "    }\n",
       "</style>\n",
       "<table border=\"1\" class=\"dataframe\">\n",
       "  <thead>\n",
       "    <tr style=\"text-align: right;\">\n",
       "      <th></th>\n",
       "      <th>Name</th>\n",
       "      <th>Designation</th>\n",
       "      <th>Place</th>\n",
       "      <th>Skill</th>\n",
       "    </tr>\n",
       "  </thead>\n",
       "  <tbody>\n",
       "    <tr>\n",
       "      <th>0</th>\n",
       "      <td>Tanushree</td>\n",
       "      <td>Lead Recruiter</td>\n",
       "      <td>Noida</td>\n",
       "      <td>UI Developers, Software Engineers, Quality Ass...</td>\n",
       "    </tr>\n",
       "    <tr>\n",
       "      <th>1</th>\n",
       "      <td>sashi bhushan</td>\n",
       "      <td>Senior Specialist</td>\n",
       "      <td>Bengaluru / Bangalore</td>\n",
       "      <td>pig, hbase, sas, spss, apache, python, nosql, ...</td>\n",
       "    </tr>\n",
       "    <tr>\n",
       "      <th>2</th>\n",
       "      <td>Bitapi</td>\n",
       "      <td>HR and Operation Manager</td>\n",
       "      <td>Bengaluru / Bangalore</td>\n",
       "      <td>Hadoop, Big Data, Data Scientists, Java, Sprin...</td>\n",
       "    </tr>\n",
       "    <tr>\n",
       "      <th>3</th>\n",
       "      <td>Gajendra Singh</td>\n",
       "      <td>Head of Recruitment - Product &amp;amp;...</td>\n",
       "      <td>Noida</td>\n",
       "      <td>Data Scientist, Big Data, Hadoop, Web Analytic...</td>\n",
       "    </tr>\n",
       "    <tr>\n",
       "      <th>4</th>\n",
       "      <td>Sadashiv Kulkarni</td>\n",
       "      <td>Company HR</td>\n",
       "      <td>Pune</td>\n",
       "      <td>Big Data Engineer, Data Scientist, Solutions, ...</td>\n",
       "    </tr>\n",
       "    <tr>\n",
       "      <th>5</th>\n",
       "      <td>Invelopment</td>\n",
       "      <td>Company HR</td>\n",
       "      <td>Ahmedabad</td>\n",
       "      <td>Scandinavian Startups</td>\n",
       "    </tr>\n",
       "    <tr>\n",
       "      <th>6</th>\n",
       "      <td>Anjali Srivastava</td>\n",
       "      <td>Director HR</td>\n",
       "      <td>Noida</td>\n",
       "      <td>Technical, Business Development Executive, Sof...</td>\n",
       "    </tr>\n",
       "    <tr>\n",
       "      <th>7</th>\n",
       "      <td>Helly Vyas</td>\n",
       "      <td>HR Business Partner</td>\n",
       "      <td>Pune</td>\n",
       "      <td>Big Data technology, PLSQL, Web Developer, Jav...</td>\n",
       "    </tr>\n",
       "    <tr>\n",
       "      <th>8</th>\n",
       "      <td>Ashish Verma</td>\n",
       "      <td>Senior Associate Human Resources</td>\n",
       "      <td>Gurgaon</td>\n",
       "      <td>SAS, VBA, Business Information Services(BIS), ...</td>\n",
       "    </tr>\n",
       "    <tr>\n",
       "      <th>9</th>\n",
       "      <td>Balaji Prabhakaran</td>\n",
       "      <td>Company Recruiter</td>\n",
       "      <td>Chennai</td>\n",
       "      <td>Technical Solution Architect, Data Scientist, ...</td>\n",
       "    </tr>\n",
       "    <tr>\n",
       "      <th>10</th>\n",
       "      <td>Shiva Kumar N</td>\n",
       "      <td>Founder</td>\n",
       "      <td>Bengaluru / Bangalore</td>\n",
       "      <td>salaesforce, Web Technologies, .net, .net full...</td>\n",
       "    </tr>\n",
       "    <tr>\n",
       "      <th>11</th>\n",
       "      <td>Bhuwneshari Devi</td>\n",
       "      <td>Lead Talent Acquisition</td>\n",
       "      <td>Delhi</td>\n",
       "      <td>Amazon, Olacabs, Quikr, Bankbazzar, Uber, Flip...</td>\n",
       "    </tr>\n",
       "    <tr>\n",
       "      <th>12</th>\n",
       "      <td>HS Sandesh</td>\n",
       "      <td>Talent Evangelist www staffiohr co</td>\n",
       "      <td>Bengaluru / Bangalore</td>\n",
       "      <td>Digital Marketing, General Manager, Business D...</td>\n",
       "    </tr>\n",
       "    <tr>\n",
       "      <th>13</th>\n",
       "      <td>Anoop Somarajan</td>\n",
       "      <td>Manager - Talent Acquisition</td>\n",
       "      <td>Chennai</td>\n",
       "      <td>Asp.net, Hl7, Mirth, Perl, Xamarin, Javascript...</td>\n",
       "    </tr>\n",
       "    <tr>\n",
       "      <th>14</th>\n",
       "      <td>Datafoundry</td>\n",
       "      <td>Company HR</td>\n",
       "      <td>Bengaluru / Bangalore</td>\n",
       "      <td>Webmethods Developer, Mean Stack, Business Ana...</td>\n",
       "    </tr>\n",
       "    <tr>\n",
       "      <th>15</th>\n",
       "      <td>A Valsa Florina</td>\n",
       "      <td>Recruitment Specialist</td>\n",
       "      <td>Bengaluru / Bangalore</td>\n",
       "      <td>Business Analyst, Front end developer, legal, ...</td>\n",
       "    </tr>\n",
       "    <tr>\n",
       "      <th>16</th>\n",
       "      <td>Kalaivani M V</td>\n",
       "      <td>HR Manager</td>\n",
       "      <td>Chennai</td>\n",
       "      <td>Data Scientist, Cloud Computing, Mobile Applic...</td>\n",
       "    </tr>\n",
       "    <tr>\n",
       "      <th>17</th>\n",
       "      <td>Prashant K</td>\n",
       "      <td>Sr HR</td>\n",
       "      <td>Bengaluru / Bangalore</td>\n",
       "      <td>Data Analyst, Statistical Analysis, Data Scien...</td>\n",
       "    </tr>\n",
       "    <tr>\n",
       "      <th>18</th>\n",
       "      <td>Radhika</td>\n",
       "      <td>HR Associate</td>\n",
       "      <td>Coimbatore</td>\n",
       "      <td>business analyst - IT (python), pay per click,...</td>\n",
       "    </tr>\n",
       "    <tr>\n",
       "      <th>19</th>\n",
       "      <td>Rakhi</td>\n",
       "      <td>HR recruiter</td>\n",
       "      <td>Singapore - (singapore)</td>\n",
       "      <td>Data Scientist, Data Research Analyst, Big Dat...</td>\n",
       "    </tr>\n",
       "    <tr>\n",
       "      <th>20</th>\n",
       "      <td>Monika Jain</td>\n",
       "      <td>Talent Aquistion Lead</td>\n",
       "      <td>Noida</td>\n",
       "      <td>Lamp Developer, Ui/ux Developer, Qa Engineer, ...</td>\n",
       "    </tr>\n",
       "    <tr>\n",
       "      <th>21</th>\n",
       "      <td>Trilok Nath</td>\n",
       "      <td>Senior IT Recruiter</td>\n",
       "      <td>Hyderabad / Secunderabad</td>\n",
       "      <td>.Net Developers With Angular Js, Html, Front E...</td>\n",
       "    </tr>\n",
       "    <tr>\n",
       "      <th>22</th>\n",
       "      <td>Rashmi Kathuria</td>\n",
       "      <td>Talent Acquisition Specialist (Specialized...</td>\n",
       "      <td>Noida</td>\n",
       "      <td>Leading MNCs, Product based organizations</td>\n",
       "    </tr>\n",
       "    <tr>\n",
       "      <th>23</th>\n",
       "      <td>Vidya Rani Hadimani</td>\n",
       "      <td>Business Manager Delivery</td>\n",
       "      <td>Bengaluru / Bangalore</td>\n",
       "      <td>Amazon Walmart Adobe OLA Myntracom Komli Media...</td>\n",
       "    </tr>\n",
       "    <tr>\n",
       "      <th>24</th>\n",
       "      <td>Monika Singh Thakur</td>\n",
       "      <td>Technical Recruiter</td>\n",
       "      <td>Indore</td>\n",
       "      <td>Big Data Analytics, Marketing Analytics, Full ...</td>\n",
       "    </tr>\n",
       "    <tr>\n",
       "      <th>25</th>\n",
       "      <td>Shikha Bakshi</td>\n",
       "      <td>Senior Manager Recruitment</td>\n",
       "      <td>Gurgaon</td>\n",
       "      <td>Analytics, Big Data, Hadoop, Python</td>\n",
       "    </tr>\n",
       "    <tr>\n",
       "      <th>26</th>\n",
       "      <td>Abhishek - Only Analytics Hiring - India and</td>\n",
       "      <td>Recruitment Lead Consultant</td>\n",
       "      <td>Vadodara / Baroda</td>\n",
       "      <td>Analytics, Business Intelligence, Business Ana...</td>\n",
       "    </tr>\n",
       "    <tr>\n",
       "      <th>27</th>\n",
       "      <td>Jayanth N</td>\n",
       "      <td>Project Manager</td>\n",
       "      <td>Mysoru / Mysore</td>\n",
       "      <td>Data Analytics, Managed Services, Team Leading...</td>\n",
       "    </tr>\n",
       "    <tr>\n",
       "      <th>28</th>\n",
       "      <td>Ravi</td>\n",
       "      <td>Team HR</td>\n",
       "      <td>Ghaziabad</td>\n",
       "      <td>Deep Learning, Machine Learning, unstructured ...</td>\n",
       "    </tr>\n",
       "    <tr>\n",
       "      <th>29</th>\n",
       "      <td>Sai Siddharth Chinta</td>\n",
       "      <td>Technical Recruiter</td>\n",
       "      <td>Bengaluru / Bangalore</td>\n",
       "      <td>Not Specified</td>\n",
       "    </tr>\n",
       "    <tr>\n",
       "      <th>30</th>\n",
       "      <td>Ishu Kumar</td>\n",
       "      <td>Co Founder &amp;amp; Ceo</td>\n",
       "      <td>Bengaluru / Bangalore</td>\n",
       "      <td>Python, Machine Learning, Sql, Data Science</td>\n",
       "    </tr>\n",
       "    <tr>\n",
       "      <th>31</th>\n",
       "      <td>Vivek Shrivastava</td>\n",
       "      <td>Assistant Manager Human Resources</td>\n",
       "      <td>Noida</td>\n",
       "      <td>Business Analyst, analytics, Decesion Scientis...</td>\n",
       "    </tr>\n",
       "    <tr>\n",
       "      <th>32</th>\n",
       "      <td>Gayathri E</td>\n",
       "      <td>Sr Recruitment</td>\n",
       "      <td>Chennai</td>\n",
       "      <td>IT Infrastructure Management, PHP, Wordpress, ...</td>\n",
       "    </tr>\n",
       "    <tr>\n",
       "      <th>33</th>\n",
       "      <td>Best In Town Analytics</td>\n",
       "      <td>Analytics Associate</td>\n",
       "      <td>Bengaluru / Bangalore</td>\n",
       "      <td>Data Analytics</td>\n",
       "    </tr>\n",
       "    <tr>\n",
       "      <th>34</th>\n",
       "      <td>Santhosh Nagaiah</td>\n",
       "      <td>Chief marketing officer</td>\n",
       "      <td>Mumbai</td>\n",
       "      <td>Data Science, Project Management, Backend</td>\n",
       "    </tr>\n",
       "    <tr>\n",
       "      <th>35</th>\n",
       "      <td>priyanka</td>\n",
       "      <td>General Manager</td>\n",
       "      <td>Bengaluru / Bangalore</td>\n",
       "      <td>Sap, Saas, Sql, Hadoop, Production Planning, B...</td>\n",
       "    </tr>\n",
       "    <tr>\n",
       "      <th>36</th>\n",
       "      <td>Nagendla Syam Kumar</td>\n",
       "      <td>Data Scientist</td>\n",
       "      <td>Bengaluru / Bangalore</td>\n",
       "      <td>Machine Learning, NLP, Performance Review, HR,...</td>\n",
       "    </tr>\n",
       "    <tr>\n",
       "      <th>37</th>\n",
       "      <td>Renny Benita K</td>\n",
       "      <td>Operations Manager</td>\n",
       "      <td>Delhi</td>\n",
       "      <td>Core Java, J2ee, Big Data, Machine Learning, D...</td>\n",
       "    </tr>\n",
       "    <tr>\n",
       "      <th>38</th>\n",
       "      <td>Jamil Akhtar</td>\n",
       "      <td>Company Recruiter</td>\n",
       "      <td>Hyderabad / Secunderabad</td>\n",
       "      <td>Not Specified</td>\n",
       "    </tr>\n",
       "    <tr>\n",
       "      <th>39</th>\n",
       "      <td>Roshan Menugu</td>\n",
       "      <td>Company Recruiter</td>\n",
       "      <td>Pune</td>\n",
       "      <td>Not Specified</td>\n",
       "    </tr>\n",
       "    <tr>\n",
       "      <th>40</th>\n",
       "      <td>Sudipta Samanta</td>\n",
       "      <td>Founder</td>\n",
       "      <td>Bengaluru / Bangalore</td>\n",
       "      <td>Not Specified</td>\n",
       "    </tr>\n",
       "    <tr>\n",
       "      <th>41</th>\n",
       "      <td>HR Team</td>\n",
       "      <td>Company HR</td>\n",
       "      <td>Bengaluru / Bangalore</td>\n",
       "      <td>Not Specified</td>\n",
       "    </tr>\n",
       "    <tr>\n",
       "      <th>42</th>\n",
       "      <td>rajesh</td>\n",
       "      <td>HR Executive</td>\n",
       "      <td>Hyderabad / Secunderabad</td>\n",
       "      <td>Data Scientist, Tableau, R Tool, Data Analytic...</td>\n",
       "    </tr>\n",
       "    <tr>\n",
       "      <th>43</th>\n",
       "      <td>navya neluri</td>\n",
       "      <td>Data Scientist</td>\n",
       "      <td>Pune</td>\n",
       "      <td>Not Specified</td>\n",
       "    </tr>\n",
       "    <tr>\n",
       "      <th>44</th>\n",
       "      <td>Ram Kumar</td>\n",
       "      <td>Data Scientist</td>\n",
       "      <td>Chennai</td>\n",
       "      <td>Not Specified</td>\n",
       "    </tr>\n",
       "    <tr>\n",
       "      <th>45</th>\n",
       "      <td>Laksh Barla</td>\n",
       "      <td>HR Executive</td>\n",
       "      <td>Hyderabad / Secunderabad</td>\n",
       "      <td>Devops, Ruby Rails, Java, Spring, Net, Angular...</td>\n",
       "    </tr>\n",
       "    <tr>\n",
       "      <th>46</th>\n",
       "      <td>Zack</td>\n",
       "      <td>Recruitment Manager</td>\n",
       "      <td>Mumbai</td>\n",
       "      <td>Software Development, Javascript, Core Java, J...</td>\n",
       "    </tr>\n",
       "    <tr>\n",
       "      <th>47</th>\n",
       "      <td>Shreya Naithani</td>\n",
       "      <td>Talent Acquisition Executive</td>\n",
       "      <td>Bengaluru / Bangalore</td>\n",
       "      <td>Node.js, React.js, Etl Testing, Data Warehousi...</td>\n",
       "    </tr>\n",
       "    <tr>\n",
       "      <th>48</th>\n",
       "      <td>Vanitha Senkurichi</td>\n",
       "      <td>Company HR</td>\n",
       "      <td>Hyderabad / Secunderabad</td>\n",
       "      <td>sql, Ui Development, ssis, Data Modeling, Data...</td>\n",
       "    </tr>\n",
       "  </tbody>\n",
       "</table>\n",
       "</div>"
      ],
      "text/plain": [
       "                                            Name  \\\n",
       "0                                      Tanushree   \n",
       "1                                  sashi bhushan   \n",
       "2                                         Bitapi   \n",
       "3                                 Gajendra Singh   \n",
       "4                              Sadashiv Kulkarni   \n",
       "5                                    Invelopment   \n",
       "6                              Anjali Srivastava   \n",
       "7                                     Helly Vyas   \n",
       "8                                   Ashish Verma   \n",
       "9                             Balaji Prabhakaran   \n",
       "10                                 Shiva Kumar N   \n",
       "11                              Bhuwneshari Devi   \n",
       "12                                    HS Sandesh   \n",
       "13                               Anoop Somarajan   \n",
       "14                                   Datafoundry   \n",
       "15                               A Valsa Florina   \n",
       "16                                 Kalaivani M V   \n",
       "17                                    Prashant K   \n",
       "18                                       Radhika   \n",
       "19                                         Rakhi   \n",
       "20                                   Monika Jain   \n",
       "21                                   Trilok Nath   \n",
       "22                               Rashmi Kathuria   \n",
       "23                           Vidya Rani Hadimani   \n",
       "24                           Monika Singh Thakur   \n",
       "25                                 Shikha Bakshi   \n",
       "26  Abhishek - Only Analytics Hiring - India and   \n",
       "27                                     Jayanth N   \n",
       "28                                          Ravi   \n",
       "29                          Sai Siddharth Chinta   \n",
       "30                                    Ishu Kumar   \n",
       "31                             Vivek Shrivastava   \n",
       "32                                    Gayathri E   \n",
       "33                        Best In Town Analytics   \n",
       "34                              Santhosh Nagaiah   \n",
       "35                                      priyanka   \n",
       "36                           Nagendla Syam Kumar   \n",
       "37                                Renny Benita K   \n",
       "38                                  Jamil Akhtar   \n",
       "39                                 Roshan Menugu   \n",
       "40                               Sudipta Samanta   \n",
       "41                                       HR Team   \n",
       "42                                        rajesh   \n",
       "43                                  navya neluri   \n",
       "44                                     Ram Kumar   \n",
       "45                                   Laksh Barla   \n",
       "46                                          Zack   \n",
       "47                               Shreya Naithani   \n",
       "48                            Vanitha Senkurichi   \n",
       "\n",
       "                                      Designation                     Place  \\\n",
       "0                                  Lead Recruiter                     Noida   \n",
       "1                               Senior Specialist     Bengaluru / Bangalore   \n",
       "2                        HR and Operation Manager     Bengaluru / Bangalore   \n",
       "3          Head of Recruitment - Product &amp;...                     Noida   \n",
       "4                                      Company HR                      Pune   \n",
       "5                                      Company HR                 Ahmedabad   \n",
       "6                                     Director HR                     Noida   \n",
       "7                             HR Business Partner                      Pune   \n",
       "8                Senior Associate Human Resources                   Gurgaon   \n",
       "9                               Company Recruiter                   Chennai   \n",
       "10                                        Founder     Bengaluru / Bangalore   \n",
       "11                        Lead Talent Acquisition                     Delhi   \n",
       "12             Talent Evangelist www staffiohr co     Bengaluru / Bangalore   \n",
       "13                   Manager - Talent Acquisition                   Chennai   \n",
       "14                                     Company HR     Bengaluru / Bangalore   \n",
       "15                         Recruitment Specialist     Bengaluru / Bangalore   \n",
       "16                                     HR Manager                   Chennai   \n",
       "17                                          Sr HR     Bengaluru / Bangalore   \n",
       "18                                   HR Associate                Coimbatore   \n",
       "19                                   HR recruiter   Singapore - (singapore)   \n",
       "20                          Talent Aquistion Lead                     Noida   \n",
       "21                            Senior IT Recruiter  Hyderabad / Secunderabad   \n",
       "22  Talent Acquisition Specialist (Specialized...                     Noida   \n",
       "23                      Business Manager Delivery     Bengaluru / Bangalore   \n",
       "24                            Technical Recruiter                    Indore   \n",
       "25                     Senior Manager Recruitment                   Gurgaon   \n",
       "26                    Recruitment Lead Consultant         Vadodara / Baroda   \n",
       "27                                Project Manager           Mysoru / Mysore   \n",
       "28                                        Team HR                 Ghaziabad   \n",
       "29                            Technical Recruiter     Bengaluru / Bangalore   \n",
       "30                           Co Founder &amp; Ceo     Bengaluru / Bangalore   \n",
       "31              Assistant Manager Human Resources                     Noida   \n",
       "32                                 Sr Recruitment                   Chennai   \n",
       "33                            Analytics Associate     Bengaluru / Bangalore   \n",
       "34                        Chief marketing officer                    Mumbai   \n",
       "35                                General Manager     Bengaluru / Bangalore   \n",
       "36                                 Data Scientist     Bengaluru / Bangalore   \n",
       "37                             Operations Manager                     Delhi   \n",
       "38                              Company Recruiter  Hyderabad / Secunderabad   \n",
       "39                              Company Recruiter                      Pune   \n",
       "40                                        Founder     Bengaluru / Bangalore   \n",
       "41                                     Company HR     Bengaluru / Bangalore   \n",
       "42                                   HR Executive  Hyderabad / Secunderabad   \n",
       "43                                 Data Scientist                      Pune   \n",
       "44                                 Data Scientist                   Chennai   \n",
       "45                                   HR Executive  Hyderabad / Secunderabad   \n",
       "46                            Recruitment Manager                    Mumbai   \n",
       "47                   Talent Acquisition Executive     Bengaluru / Bangalore   \n",
       "48                                     Company HR  Hyderabad / Secunderabad   \n",
       "\n",
       "                                                Skill  \n",
       "0   UI Developers, Software Engineers, Quality Ass...  \n",
       "1   pig, hbase, sas, spss, apache, python, nosql, ...  \n",
       "2   Hadoop, Big Data, Data Scientists, Java, Sprin...  \n",
       "3   Data Scientist, Big Data, Hadoop, Web Analytic...  \n",
       "4   Big Data Engineer, Data Scientist, Solutions, ...  \n",
       "5                               Scandinavian Startups  \n",
       "6   Technical, Business Development Executive, Sof...  \n",
       "7   Big Data technology, PLSQL, Web Developer, Jav...  \n",
       "8   SAS, VBA, Business Information Services(BIS), ...  \n",
       "9   Technical Solution Architect, Data Scientist, ...  \n",
       "10  salaesforce, Web Technologies, .net, .net full...  \n",
       "11  Amazon, Olacabs, Quikr, Bankbazzar, Uber, Flip...  \n",
       "12  Digital Marketing, General Manager, Business D...  \n",
       "13  Asp.net, Hl7, Mirth, Perl, Xamarin, Javascript...  \n",
       "14  Webmethods Developer, Mean Stack, Business Ana...  \n",
       "15  Business Analyst, Front end developer, legal, ...  \n",
       "16  Data Scientist, Cloud Computing, Mobile Applic...  \n",
       "17  Data Analyst, Statistical Analysis, Data Scien...  \n",
       "18  business analyst - IT (python), pay per click,...  \n",
       "19  Data Scientist, Data Research Analyst, Big Dat...  \n",
       "20  Lamp Developer, Ui/ux Developer, Qa Engineer, ...  \n",
       "21  .Net Developers With Angular Js, Html, Front E...  \n",
       "22          Leading MNCs, Product based organizations  \n",
       "23  Amazon Walmart Adobe OLA Myntracom Komli Media...  \n",
       "24  Big Data Analytics, Marketing Analytics, Full ...  \n",
       "25                Analytics, Big Data, Hadoop, Python  \n",
       "26  Analytics, Business Intelligence, Business Ana...  \n",
       "27  Data Analytics, Managed Services, Team Leading...  \n",
       "28  Deep Learning, Machine Learning, unstructured ...  \n",
       "29                                      Not Specified  \n",
       "30        Python, Machine Learning, Sql, Data Science  \n",
       "31  Business Analyst, analytics, Decesion Scientis...  \n",
       "32  IT Infrastructure Management, PHP, Wordpress, ...  \n",
       "33                                     Data Analytics  \n",
       "34          Data Science, Project Management, Backend  \n",
       "35  Sap, Saas, Sql, Hadoop, Production Planning, B...  \n",
       "36  Machine Learning, NLP, Performance Review, HR,...  \n",
       "37  Core Java, J2ee, Big Data, Machine Learning, D...  \n",
       "38                                      Not Specified  \n",
       "39                                      Not Specified  \n",
       "40                                      Not Specified  \n",
       "41                                      Not Specified  \n",
       "42  Data Scientist, Tableau, R Tool, Data Analytic...  \n",
       "43                                      Not Specified  \n",
       "44                                      Not Specified  \n",
       "45  Devops, Ruby Rails, Java, Spring, Net, Angular...  \n",
       "46  Software Development, Javascript, Core Java, J...  \n",
       "47  Node.js, React.js, Etl Testing, Data Warehousi...  \n",
       "48  sql, Ui Development, ssis, Data Modeling, Data...  "
      ]
     },
     "execution_count": 46,
     "metadata": {},
     "output_type": "execute_result"
    }
   ],
   "source": [
    "df=pd.DataFrame({'Name':names,'Designation':designation,'Place':place,\"Skill\":skills})\n",
    "df"
   ]
  },
  {
   "cell_type": "raw",
   "id": "3a13a626",
   "metadata": {},
   "source": [
    "8. Scrape the details of Highest selling novels. \n",
    "Url = https://www.theguardian.com/news/datablog/2012/aug/09/best-selling-books-all-time-fifty-shades-grey compare/ \n",
    "You have to find the following details: \n",
    "A) Book name \n",
    "B) Author name \n",
    "C) Volumes sold \n",
    "D) Publisher \n",
    "E) Genre \n"
   ]
  },
  {
   "cell_type": "code",
   "execution_count": 9,
   "id": "3f586967",
   "metadata": {},
   "outputs": [
    {
     "name": "stderr",
     "output_type": "stream",
     "text": [
      "C:\\Users\\pooja\\AppData\\Local\\Temp/ipykernel_5228/4208281636.py:1: DeprecationWarning: executable_path has been deprecated, please pass in a Service object\n",
      "  driver=webdriver.Chrome(r'C:\\Web Driver\\chromedriver.exe')\n"
     ]
    }
   ],
   "source": [
    "driver=webdriver.Chrome(r'C:\\Web Driver\\chromedriver.exe')\n",
    "\n",
    "driver.get(\"https://www.theguardian.com/news/datablog/2012/aug/09/best-selling-books-all-time-fifty-shades-grey compare/\")\n"
   ]
  },
  {
   "cell_type": "code",
   "execution_count": 3,
   "id": "898826b8",
   "metadata": {},
   "outputs": [
    {
     "name": "stderr",
     "output_type": "stream",
     "text": [
      "C:\\Users\\pooja\\AppData\\Local\\Temp/ipykernel_5228/922032555.py:1: DeprecationWarning: find_element_by_xpath is deprecated. Please use find_element(by=By.XPATH, value=xpath) instead\n",
      "  button=driver.find_element_by_xpath('/html/body/div[1]/header/nav/div[2]/a')\n"
     ]
    }
   ],
   "source": [
    "button=driver.find_element_by_xpath('/html/body/div[1]/header/nav/div[2]/a')\n",
    "button.click()"
   ]
  },
  {
   "cell_type": "code",
   "execution_count": 4,
   "id": "71b0d47c",
   "metadata": {},
   "outputs": [
    {
     "name": "stderr",
     "output_type": "stream",
     "text": [
      "C:\\Users\\pooja\\AppData\\Local\\Temp/ipykernel_5228/253629581.py:1: DeprecationWarning: find_element_by_xpath is deprecated. Please use find_element(by=By.XPATH, value=xpath) instead\n",
      "  search=driver.find_element_by_xpath('/html/body/div[1]/header/nav/div[3]/div/div[1]/div/form/table/tbody/tr/td[1]/div/table/tbody/tr/td[1]/input')\n"
     ]
    }
   ],
   "source": [
    "search=driver.find_element_by_xpath('/html/body/div[1]/header/nav/div[3]/div/div[1]/div/form/table/tbody/tr/td[1]/div/table/tbody/tr/td[1]/input')\n",
    "search.send_keys(\"Highest selling novels\")\n"
   ]
  },
  {
   "cell_type": "code",
   "execution_count": null,
   "id": "2c96872a",
   "metadata": {},
   "outputs": [],
   "source": [
    "button1=driver.find_element_by_xpath('/html/body/div[1]/header/nav/div[3]/div/div[1]/div/form/table/tbody/tr/td[2]/button/svg/path')\n",
    "button1.click()"
   ]
  },
  {
   "cell_type": "code",
   "execution_count": 8,
   "id": "984cb2d6",
   "metadata": {},
   "outputs": [
    {
     "name": "stderr",
     "output_type": "stream",
     "text": [
      "C:\\Users\\pooja\\AppData\\Local\\Temp/ipykernel_5228/3452881589.py:3: DeprecationWarning: find_elements_by_xpath is deprecated. Please use find_elements(by=By.XPATH, value=xpath) instead\n",
      "  for i in driver.find_elements_by_xpath('/html/body/div/div[1]/div[1]/a'):\n"
     ]
    }
   ],
   "source": [
    "url=[]\n",
    "\n",
    "for i in driver.find_elements_by_xpath('/html/body/div/div[1]/div[1]/a'):\n",
    "        url.append(i.get_attribute('href'))"
   ]
  },
  {
   "cell_type": "raw",
   "id": "3e308eef",
   "metadata": {},
   "source": [
    "9. Scrape the details most watched tv series of all time from imdb.com. \n",
    "Url = https://www.imdb.com/list/ls095964455/ \n",
    "You have to find the following details: \n",
    "A) Name \n",
    "B) Year span \n",
    "C) Genre \n",
    "D) Run time \n",
    "E) Ratings \n",
    "F) Votes "
   ]
  },
  {
   "cell_type": "code",
   "execution_count": 2,
   "id": "c1eb4b79",
   "metadata": {},
   "outputs": [
    {
     "name": "stderr",
     "output_type": "stream",
     "text": [
      "C:\\Users\\pooja\\AppData\\Local\\Temp/ipykernel_29940/242766202.py:1: DeprecationWarning: executable_path has been deprecated, please pass in a Service object\n",
      "  driver=webdriver.Chrome(r'C:\\Web Driver\\chromedriver.exe')\n"
     ]
    }
   ],
   "source": [
    "driver=webdriver.Chrome(r'C:\\Web Driver\\chromedriver.exe')\n",
    "\n",
    "driver.get(\"https://www.imdb.com/list/ls095964455/\")\n"
   ]
  },
  {
   "cell_type": "code",
   "execution_count": 4,
   "id": "0d3c49e4",
   "metadata": {},
   "outputs": [
    {
     "name": "stderr",
     "output_type": "stream",
     "text": [
      "C:\\Users\\pooja\\AppData\\Local\\Temp/ipykernel_29940/329704863.py:2: DeprecationWarning: find_elements_by_xpath is deprecated. Please use find_elements(by=By.XPATH, value=xpath) instead\n",
      "  for i in driver.find_elements_by_xpath('//span[@class=\"lister-item-index unbold text-primary\"]'):\n"
     ]
    },
    {
     "data": {
      "text/plain": [
       "['1.',\n",
       " '2.',\n",
       " '3.',\n",
       " '4.',\n",
       " '5.',\n",
       " '6.',\n",
       " '7.',\n",
       " '8.',\n",
       " '9.',\n",
       " '10.',\n",
       " '11.',\n",
       " '12.',\n",
       " '13.',\n",
       " '14.',\n",
       " '15.',\n",
       " '16.',\n",
       " '17.',\n",
       " '18.',\n",
       " '19.',\n",
       " '20.',\n",
       " '21.',\n",
       " '22.',\n",
       " '23.',\n",
       " '24.',\n",
       " '25.',\n",
       " '26.',\n",
       " '27.',\n",
       " '28.',\n",
       " '29.',\n",
       " '30.',\n",
       " '31.',\n",
       " '32.',\n",
       " '33.',\n",
       " '34.',\n",
       " '35.',\n",
       " '36.',\n",
       " '37.',\n",
       " '38.',\n",
       " '39.',\n",
       " '40.',\n",
       " '41.',\n",
       " '42.',\n",
       " '43.',\n",
       " '44.',\n",
       " '45.',\n",
       " '46.',\n",
       " '47.',\n",
       " '48.',\n",
       " '49.',\n",
       " '50.',\n",
       " '51.',\n",
       " '52.',\n",
       " '53.',\n",
       " '54.',\n",
       " '55.',\n",
       " '56.',\n",
       " '57.',\n",
       " '58.',\n",
       " '59.',\n",
       " '60.',\n",
       " '61.',\n",
       " '62.',\n",
       " '63.',\n",
       " '64.',\n",
       " '65.',\n",
       " '66.',\n",
       " '67.',\n",
       " '68.',\n",
       " '69.',\n",
       " '70.',\n",
       " '71.',\n",
       " '72.',\n",
       " '73.',\n",
       " '74.',\n",
       " '75.',\n",
       " '76.',\n",
       " '77.',\n",
       " '78.',\n",
       " '79.',\n",
       " '80.',\n",
       " '81.',\n",
       " '82.',\n",
       " '83.',\n",
       " '84.',\n",
       " '85.',\n",
       " '86.',\n",
       " '87.',\n",
       " '88.',\n",
       " '89.',\n",
       " '90.',\n",
       " '91.',\n",
       " '92.',\n",
       " '93.',\n",
       " '94.',\n",
       " '95.',\n",
       " '96.',\n",
       " '97.',\n",
       " '98.',\n",
       " '99.',\n",
       " '100.']"
      ]
     },
     "execution_count": 4,
     "metadata": {},
     "output_type": "execute_result"
    }
   ],
   "source": [
    "name=[]\n",
    "for i in driver.find_elements_by_xpath('//span[@class=\"lister-item-index unbold text-primary\"]'):\n",
    "    name.append(i.text)\n",
    "name"
   ]
  },
  {
   "cell_type": "raw",
   "id": "8fadf702",
   "metadata": {},
   "source": [
    "10. Details of Datasets from UCI machine learning repositories. \n",
    "Url = https://archive.ics.uci.edu/ \n",
    "You have to find the following details: \n",
    "A) Dataset name \n",
    "B) Data type \n",
    "C) Task \n",
    "D) Attribute type \n",
    "E) No of instances \n",
    "F) No of attribute \n",
    "G) Year \n",
    "Note: - from the home page you have to go to the ShowAllDataset page through code."
   ]
  },
  {
   "cell_type": "code",
   "execution_count": 14,
   "id": "b5877016",
   "metadata": {},
   "outputs": [
    {
     "name": "stderr",
     "output_type": "stream",
     "text": [
      "C:\\Users\\pooja\\AppData\\Local\\Temp/ipykernel_29940/3956781663.py:1: DeprecationWarning: executable_path has been deprecated, please pass in a Service object\n",
      "  driver=webdriver.Chrome(r'C:\\Web Driver\\chromedriver.exe')\n"
     ]
    }
   ],
   "source": [
    "driver=webdriver.Chrome(r'C:\\Web Driver\\chromedriver.exe')\n",
    "\n",
    "driver.get(\"https://archive.ics.uci.edu/\")\n"
   ]
  },
  {
   "cell_type": "code",
   "execution_count": 15,
   "id": "58acb793",
   "metadata": {},
   "outputs": [
    {
     "name": "stderr",
     "output_type": "stream",
     "text": [
      "C:\\Users\\pooja\\AppData\\Local\\Temp/ipykernel_29940/4118014748.py:1: DeprecationWarning: find_element_by_xpath is deprecated. Please use find_element(by=By.XPATH, value=xpath) instead\n",
      "  button=driver.find_element_by_xpath('//span[@class=\"whitetext\"]')\n"
     ]
    }
   ],
   "source": [
    "button=driver.find_element_by_xpath('//span[@class=\"whitetext\"]')\n",
    "button.click()"
   ]
  },
  {
   "cell_type": "code",
   "execution_count": 18,
   "id": "d330d5bf",
   "metadata": {},
   "outputs": [
    {
     "name": "stderr",
     "output_type": "stream",
     "text": [
      "C:\\Users\\pooja\\AppData\\Local\\Temp/ipykernel_29940/2612390442.py:3: DeprecationWarning: find_elements_by_xpath is deprecated. Please use find_elements(by=By.XPATH, value=xpath) instead\n",
      "  for i in driver.find_elements_by_xpath('/html/body/table[2]/tbody/tr/td[2]/table[2]/tbody/tr[2]'):\n"
     ]
    },
    {
     "data": {
      "text/plain": [
       "[None]"
      ]
     },
     "execution_count": 18,
     "metadata": {},
     "output_type": "execute_result"
    }
   ],
   "source": [
    "url=[]\n",
    "\n",
    "for i in driver.find_elements_by_xpath('/html/body/table[2]/tbody/tr/td[2]/table[2]/tbody/tr[2]'):\n",
    "        url.append(i.get_attribute('href'))\n",
    "        \n",
    "url"
   ]
  },
  {
   "cell_type": "code",
   "execution_count": null,
   "id": "60f3b872",
   "metadata": {},
   "outputs": [],
   "source": []
  }
 ],
 "metadata": {
  "kernelspec": {
   "display_name": "Python 3 (ipykernel)",
   "language": "python",
   "name": "python3"
  },
  "language_info": {
   "codemirror_mode": {
    "name": "ipython",
    "version": 3
   },
   "file_extension": ".py",
   "mimetype": "text/x-python",
   "name": "python",
   "nbconvert_exporter": "python",
   "pygments_lexer": "ipython3",
   "version": "3.9.7"
  }
 },
 "nbformat": 4,
 "nbformat_minor": 5
}
